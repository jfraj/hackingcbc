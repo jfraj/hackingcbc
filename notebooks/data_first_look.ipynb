{
 "metadata": {
  "name": "",
  "signature": "sha256:3a5858df99248ffbedf01380f4876c7283bdaca58803f3b070525cc392c29b03"
 },
 "nbformat": 3,
 "nbformat_minor": 0,
 "worksheets": [
  {
   "cells": [
    {
     "cell_type": "markdown",
     "metadata": {},
     "source": [
      "Data from [here](https://docs.google.com/spreadsheets/d/1FEY0kokq_awO0H3mzEt5v5JLlmZzaMyPA7BiNwmurqM/edit#gid=0)"
     ]
    },
    {
     "cell_type": "code",
     "collapsed": false,
     "input": [
      "%matplotlib inline\n",
      "import pandas as pd\n",
      "import matplotlib.pyplot as plt\n",
      "pd.set_option('display.mpl_style', 'default')\n",
      "plt.rcParams['figure.figsize'] = (15, 5)\n",
      "import sys\n",
      "import json"
     ],
     "language": "python",
     "metadata": {},
     "outputs": [],
     "prompt_number": 2
    },
    {
     "cell_type": "code",
     "collapsed": false,
     "input": [
      "json_fname = '../data/stories-montreal-2014-01-01-to-2015-03-09.json'\n",
      "db = json.load(open(json_fname))\n",
      "len(db)"
     ],
     "language": "python",
     "metadata": {},
     "outputs": [
      {
       "metadata": {},
       "output_type": "pyout",
       "prompt_number": 3,
       "text": [
        "3034"
       ]
      }
     ],
     "prompt_number": 3
    },
    {
     "cell_type": "code",
     "collapsed": false,
     "input": [
      "db[0].keys()"
     ],
     "language": "python",
     "metadata": {},
     "outputs": [
      {
       "metadata": {},
       "output_type": "pyout",
       "prompt_number": 5,
       "text": [
        "[u'storyId', u'storyUrl', u'title', u'concepts']"
       ]
      }
     ],
     "prompt_number": 5
    },
    {
     "cell_type": "code",
     "collapsed": false,
     "input": [
      "db[0]['storyId'], db[0]['storyUrl'], db[0]['title']"
     ],
     "language": "python",
     "metadata": {},
     "outputs": [
      {
       "metadata": {},
       "output_type": "pyout",
       "prompt_number": 9,
       "text": [
        "(u'1.2530186',\n",
        " u'http://www.cbc.ca/news/canada/montreal/mega-moving-probed-by-police-after-couple-s-belongings-disappear-1.2530186',\n",
        " u\"Mega Moving probed by police after couple's belongings disappear\")"
       ]
      }
     ],
     "prompt_number": 9
    },
    {
     "cell_type": "code",
     "collapsed": false,
     "input": [
      "db[0]['concepts'][:2]"
     ],
     "language": "python",
     "metadata": {},
     "outputs": [
      {
       "metadata": {},
       "output_type": "pyout",
       "prompt_number": 13,
       "text": [
        "[{u'groups': [{u'count': 10,\n",
        "    u'group': u'concept',\n",
        "    u'weight': 0.141631171057803}],\n",
        "  u'item': u'couple'},\n",
        " {u'groups': [{u'count': 1,\n",
        "    u'group': u'category',\n",
        "    u'weight': 0.0635425122097419}],\n",
        "  u'item': u'montreal'}]"
       ]
      }
     ],
     "prompt_number": 13
    },
    {
     "cell_type": "code",
     "collapsed": false,
     "input": [
      "news_items = []\n",
      "total_news = len(db)\n",
      "for counter, inews in enumerate(db):\n",
      "    #print '\\n\\n############## new news'\n",
      "    for iconcepts in inews['concepts']:\n",
      "        #print iconcepts\n",
      "        inews_item = pd.DataFrame(iconcepts['groups'])\n",
      "        inews_item['storyId'] = inews['storyId']\n",
      "        inews_item['storyUrl'] = inews['storyUrl']\n",
      "        inews_item['title'] = inews['title']\n",
      "        inews_item['item'] = iconcepts['item']\n",
      "        news_items.append(inews_item)\n",
      "    if counter%100==0:\n",
      "        print 'row {} ({}%)'.format(counter, 100*counter/total_news)\n",
      "    if counter >100:\n",
      "        break\n",
      "news_items = pd.concat(news_items, ignore_index=True)"
     ],
     "language": "python",
     "metadata": {},
     "outputs": [
      {
       "output_type": "stream",
       "stream": "stdout",
       "text": [
        "row 0 (0%)\n",
        "row 100 (3%)"
       ]
      },
      {
       "output_type": "stream",
       "stream": "stdout",
       "text": [
        "\n"
       ]
      }
     ],
     "prompt_number": 45
    },
    {
     "cell_type": "code",
     "collapsed": false,
     "input": [
      "news_items.shape"
     ],
     "language": "python",
     "metadata": {},
     "outputs": [
      {
       "metadata": {},
       "output_type": "pyout",
       "prompt_number": 46,
       "text": [
        "(4022, 7)"
       ]
      }
     ],
     "prompt_number": 46
    },
    {
     "cell_type": "code",
     "collapsed": false,
     "input": [
      "news_items.head()"
     ],
     "language": "python",
     "metadata": {},
     "outputs": [
      {
       "html": [
        "<div style=\"max-height:1000px;max-width:1500px;overflow:auto;\">\n",
        "<table border=\"1\" class=\"dataframe\">\n",
        "  <thead>\n",
        "    <tr style=\"text-align: right;\">\n",
        "      <th></th>\n",
        "      <th>count</th>\n",
        "      <th>group</th>\n",
        "      <th>weight</th>\n",
        "      <th>storyId</th>\n",
        "      <th>storyUrl</th>\n",
        "      <th>title</th>\n",
        "      <th>item</th>\n",
        "    </tr>\n",
        "  </thead>\n",
        "  <tbody>\n",
        "    <tr>\n",
        "      <th>0</th>\n",
        "      <td> 10</td>\n",
        "      <td>  concept</td>\n",
        "      <td> 0.141631</td>\n",
        "      <td> 1.2530186</td>\n",
        "      <td> http://www.cbc.ca/news/canada/montreal/mega-mo...</td>\n",
        "      <td> Mega Moving probed by police after couple's be...</td>\n",
        "      <td>               couple</td>\n",
        "    </tr>\n",
        "    <tr>\n",
        "      <th>1</th>\n",
        "      <td>  1</td>\n",
        "      <td> category</td>\n",
        "      <td> 0.063543</td>\n",
        "      <td> 1.2530186</td>\n",
        "      <td> http://www.cbc.ca/news/canada/montreal/mega-mo...</td>\n",
        "      <td> Mega Moving probed by police after couple's be...</td>\n",
        "      <td>             montreal</td>\n",
        "    </tr>\n",
        "    <tr>\n",
        "      <th>2</th>\n",
        "      <td>  1</td>\n",
        "      <td> taxonomy</td>\n",
        "      <td> 0.065894</td>\n",
        "      <td> 1.2530186</td>\n",
        "      <td> http://www.cbc.ca/news/canada/montreal/mega-mo...</td>\n",
        "      <td> Mega Moving probed by police after couple's be...</td>\n",
        "      <td> news/canada/montreal</td>\n",
        "    </tr>\n",
        "    <tr>\n",
        "      <th>3</th>\n",
        "      <td>  1</td>\n",
        "      <td>  concept</td>\n",
        "      <td> 0.085446</td>\n",
        "      <td> 1.2530186</td>\n",
        "      <td> http://www.cbc.ca/news/canada/montreal/mega-mo...</td>\n",
        "      <td> Mega Moving probed by police after couple's be...</td>\n",
        "      <td>       summer clothes</td>\n",
        "    </tr>\n",
        "    <tr>\n",
        "      <th>4</th>\n",
        "      <td> 12</td>\n",
        "      <td>  concept</td>\n",
        "      <td> 0.580728</td>\n",
        "      <td> 1.2530186</td>\n",
        "      <td> http://www.cbc.ca/news/canada/montreal/mega-mo...</td>\n",
        "      <td> Mega Moving probed by police after couple's be...</td>\n",
        "      <td>           belongings</td>\n",
        "    </tr>\n",
        "  </tbody>\n",
        "</table>\n",
        "</div>"
       ],
       "metadata": {},
       "output_type": "pyout",
       "prompt_number": 47,
       "text": [
        "   count     group    weight    storyId  \\\n",
        "0     10   concept  0.141631  1.2530186   \n",
        "1      1  category  0.063543  1.2530186   \n",
        "2      1  taxonomy  0.065894  1.2530186   \n",
        "3      1   concept  0.085446  1.2530186   \n",
        "4     12   concept  0.580728  1.2530186   \n",
        "\n",
        "                                            storyUrl  \\\n",
        "0  http://www.cbc.ca/news/canada/montreal/mega-mo...   \n",
        "1  http://www.cbc.ca/news/canada/montreal/mega-mo...   \n",
        "2  http://www.cbc.ca/news/canada/montreal/mega-mo...   \n",
        "3  http://www.cbc.ca/news/canada/montreal/mega-mo...   \n",
        "4  http://www.cbc.ca/news/canada/montreal/mega-mo...   \n",
        "\n",
        "                                               title                  item  \n",
        "0  Mega Moving probed by police after couple's be...                couple  \n",
        "1  Mega Moving probed by police after couple's be...              montreal  \n",
        "2  Mega Moving probed by police after couple's be...  news/canada/montreal  \n",
        "3  Mega Moving probed by police after couple's be...        summer clothes  \n",
        "4  Mega Moving probed by police after couple's be...            belongings  "
       ]
      }
     ],
     "prompt_number": 47
    },
    {
     "cell_type": "code",
     "collapsed": false,
     "input": [
      "news_items['group'].unique()"
     ],
     "language": "python",
     "metadata": {},
     "outputs": [
      {
       "metadata": {},
       "output_type": "pyout",
       "prompt_number": 24,
       "text": [
        "array([u'concept', u'category', u'taxonomy', u'entity', u'author',\n",
        "       u'location', u'person', u'language', u'site', u'pageclass',\n",
        "       u'cbc-categories', u'company', u'acronym'], dtype=object)"
       ]
      }
     ],
     "prompt_number": 24
    },
    {
     "cell_type": "code",
     "collapsed": false,
     "input": [
      "print news_items[news_items['group']=='concept']['item'].unique()"
     ],
     "language": "python",
     "metadata": {},
     "outputs": [
      {
       "output_type": "stream",
       "stream": "stdout",
       "text": [
        "[u'couple' u'summer clothes' u'belongings' ..., u'home delivery service'\n",
        " u'mail delivery' u'mobility concerns']\n"
       ]
      }
     ],
     "prompt_number": 20
    },
    {
     "cell_type": "code",
     "collapsed": false,
     "input": [
      "print news_items[news_items['group']=='category']['item'].unique()"
     ],
     "language": "python",
     "metadata": {},
     "outputs": [
      {
       "output_type": "stream",
       "stream": "stdout",
       "text": [
        "[u'montreal' u'canada' u'news' u'quebec-votes-2014']\n"
       ]
      }
     ],
     "prompt_number": 21
    },
    {
     "cell_type": "code",
     "collapsed": false,
     "input": [
      "print news_items[news_items['group']=='taxonomy']['item'].unique()"
     ],
     "language": "python",
     "metadata": {},
     "outputs": [
      {
       "output_type": "stream",
       "stream": "stdout",
       "text": [
        "[u'news/canada/montreal' u'news' u'news/canada'\n",
        " u'news/canada/montreal/quebec-votes-2014']\n"
       ]
      }
     ],
     "prompt_number": 23
    },
    {
     "cell_type": "code",
     "collapsed": false,
     "input": [
      "print news_items[news_items['group']=='entity']['item'].unique()[:10]"
     ],
     "language": "python",
     "metadata": {},
     "outputs": [
      {
       "output_type": "stream",
       "stream": "stdout",
       "text": [
        "[u'montreal investigates' u'canadian association' u'lagues'\n",
        " u'mega moving and storage' u'fehmi yasar'\n",
        " u'canadian association of movers' u'better business bureau' u'news'\n",
        " u'liesse road' u'c\\xf4te de liesse road']\n"
       ]
      }
     ],
     "prompt_number": 36
    },
    {
     "cell_type": "code",
     "collapsed": false,
     "input": [
      "print news_items[news_items['group']=='author']['item'].unique()[:10]"
     ],
     "language": "python",
     "metadata": {},
     "outputs": [
      {
       "output_type": "stream",
       "stream": "stdout",
       "text": [
        "[u'cbc news']\n"
       ]
      }
     ],
     "prompt_number": 34
    },
    {
     "cell_type": "code",
     "collapsed": false,
     "input": [
      "print news_items[news_items['group']=='location']['item'].unique()[:10]"
     ],
     "language": "python",
     "metadata": {},
     "outputs": [
      {
       "output_type": "stream",
       "stream": "stdout",
       "text": [
        "[u'ontario' u'longueuil' u'nova scotia' u'chatham' u'welland' u'montreal'\n",
        " u'quebec' u'liberal' u'canada' u'saudi arabia']\n"
       ]
      }
     ],
     "prompt_number": 35
    },
    {
     "cell_type": "code",
     "collapsed": false,
     "input": [
      "print news_items[news_items['group']=='person']['item'].unique()[:10]"
     ],
     "language": "python",
     "metadata": {},
     "outputs": [
      {
       "output_type": "stream",
       "stream": "stdout",
       "text": [
        "[u'kim lague' u'jim carney' u'david lague' u'al lafrance' u'britt dash'\n",
        " u'matt goldberg' u'pauline marois' u'philippe couillard' u'simon delorme'\n",
        " u'john baird']\n"
       ]
      }
     ],
     "prompt_number": 37
    },
    {
     "cell_type": "code",
     "collapsed": false,
     "input": [
      "print news_items[news_items['group']=='language']['item'].unique()[:10]"
     ],
     "language": "python",
     "metadata": {},
     "outputs": [
      {
       "output_type": "stream",
       "stream": "stdout",
       "text": [
        "[u'en']\n"
       ]
      }
     ],
     "prompt_number": 38
    },
    {
     "cell_type": "code",
     "collapsed": false,
     "input": [
      "print news_items[news_items['group']=='site']['item'].unique()[:10]"
     ],
     "language": "python",
     "metadata": {},
     "outputs": [
      {
       "output_type": "stream",
       "stream": "stdout",
       "text": [
        "[u'cbc.ca']\n"
       ]
      }
     ],
     "prompt_number": 39
    },
    {
     "cell_type": "code",
     "collapsed": false,
     "input": [
      "print news_items[news_items['group']=='pageclass']['item'].unique()[:10]"
     ],
     "language": "python",
     "metadata": {},
     "outputs": [
      {
       "output_type": "stream",
       "stream": "stdout",
       "text": [
        "[u'article']\n"
       ]
      }
     ],
     "prompt_number": 40
    },
    {
     "cell_type": "code",
     "collapsed": false,
     "input": [
      "print news_items[news_items['group']=='cbc-categories']['item'].unique()[:10]"
     ],
     "language": "python",
     "metadata": {},
     "outputs": [
      {
       "output_type": "stream",
       "stream": "stdout",
       "text": [
        "[u'business' u'community' u'community/politics' u'news/national' u'news'\n",
        " u'canpoli' u'lifestyle' u'news/local' u'canpoli/riding' u'community/law']\n"
       ]
      }
     ],
     "prompt_number": 33
    },
    {
     "cell_type": "code",
     "collapsed": false,
     "input": [
      "print news_items[news_items['group']=='company']['item'].unique()[:10]"
     ],
     "language": "python",
     "metadata": {},
     "outputs": [
      {
       "output_type": "stream",
       "stream": "stdout",
       "text": [
        "[u'amnesty international' u'soconex' u'google'\n",
        " u'empire life insurance company' u'magnotta' u'facebook' u'common inc'\n",
        " u'cambridge inc' u'champlain bridge corp' u'qu\\xe9bec inc']\n"
       ]
      }
     ],
     "prompt_number": 41
    },
    {
     "cell_type": "code",
     "collapsed": false,
     "input": [
      "print news_items[news_items['group']=='acronym']['item'].unique()[:10]"
     ],
     "language": "python",
     "metadata": {},
     "outputs": [
      {
       "output_type": "stream",
       "stream": "stdout",
       "text": [
        "[u'automobile protection association' u'montreal police'\n",
        " u'canadian food inspection agency' u'transportation safety board'\n",
        " u'agence m\\xe9tropolitaine de transport']\n"
       ]
      }
     ],
     "prompt_number": 42
    },
    {
     "cell_type": "markdown",
     "metadata": {},
     "source": [
      "###Let's add another metric: wcount "
     ]
    },
    {
     "cell_type": "code",
     "collapsed": false,
     "input": [
      "news_items['wcount'] = news_items['weight']*news_items['count']"
     ],
     "language": "python",
     "metadata": {},
     "outputs": [],
     "prompt_number": 77
    },
    {
     "cell_type": "markdown",
     "metadata": {},
     "source": [
      "##Basic exploration"
     ]
    },
    {
     "cell_type": "code",
     "collapsed": false,
     "input": [
      "#news_bygroup = news_items.groupby(['storyId', 'group','item'])\n",
      "news_bygroup = news_items.groupby(['group', 'item'])"
     ],
     "language": "python",
     "metadata": {},
     "outputs": [],
     "prompt_number": 78
    },
    {
     "cell_type": "code",
     "collapsed": false,
     "input": [
      "a = news_bygroup['count'].sum()\n",
      "a.sort()\n",
      "a['person'].tail(15)"
     ],
     "language": "python",
     "metadata": {},
     "outputs": [
      {
       "metadata": {},
       "output_type": "pyout",
       "prompt_number": 80,
       "text": [
        "item\n",
        "robert mcgee           5\n",
        "xavier dolan           6\n",
        "arthur porter          6\n",
        "bernard drainville     6\n",
        "david ballas           6\n",
        "dan xu                 7\n",
        "jamie byron            7\n",
        "claude perras          7\n",
        "erin gee               8\n",
        "jimmy fallon           9\n",
        "ian sheriff            9\n",
        "denis coderre          9\n",
        "amber alert           10\n",
        "ducarme joseph        12\n",
        "philippe couillard    12\n",
        "Name: count, dtype: int64"
       ]
      }
     ],
     "prompt_number": 80
    },
    {
     "cell_type": "code",
     "collapsed": false,
     "input": [
      "b = news_bygroup['wcount'].sum()\n",
      "b.sort()\n",
      "b['person'].tail(15)"
     ],
     "language": "python",
     "metadata": {},
     "outputs": [
      {
       "metadata": {},
       "output_type": "pyout",
       "prompt_number": 81,
       "text": [
        "item\n",
        "robert mcgee           5.000000\n",
        "arthur porter          5.309378\n",
        "bernard drainville     6.000000\n",
        "david ballas           6.000000\n",
        "xavier dolan           6.000000\n",
        "jamie byron            6.354106\n",
        "dan xu                 7.000000\n",
        "claude perras          7.000000\n",
        "denis coderre          7.561154\n",
        "erin gee               8.000000\n",
        "ian sheriff            8.768066\n",
        "jimmy fallon           9.000000\n",
        "amber alert           10.000000\n",
        "philippe couillard    11.538346\n",
        "ducarme joseph        12.000000\n",
        "Name: wcount, dtype: float64"
       ]
      }
     ],
     "prompt_number": 81
    },
    {
     "cell_type": "code",
     "collapsed": false,
     "input": [
      "b['person'].tail().plot(kind='barh')"
     ],
     "language": "python",
     "metadata": {},
     "outputs": [
      {
       "metadata": {},
       "output_type": "pyout",
       "prompt_number": 86,
       "text": [
        "<matplotlib.axes._subplots.AxesSubplot at 0x1079d0290>"
       ]
      },
      {
       "metadata": {},
       "output_type": "display_data",
       "png": "[encoded data removed]",
       "text": [
        "<matplotlib.figure.Figure at 0x107cd3090>"
       ]
      }
     ],
     "prompt_number": 86
    },
    {
     "cell_type": "code",
     "collapsed": false,
     "input": [],
     "language": "python",
     "metadata": {},
     "outputs": []
    }
   ],
   "metadata": {}
  }
 ]
}